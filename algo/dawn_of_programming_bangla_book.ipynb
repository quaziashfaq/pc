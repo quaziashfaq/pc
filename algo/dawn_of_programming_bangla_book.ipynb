{
 "cells": [
  {
   "cell_type": "markdown",
   "metadata": {},
   "source": [
    "# 2.4 Loop"
   ]
  },
  {
   "cell_type": "code",
   "execution_count": null,
   "metadata": {},
   "outputs": [],
   "source": [
    "# 1 + 2 + 3 + ... + n\n",
    "n = 10\n",
    "total = 0\n",
    "i = 1\n",
    "while i <= n:\n",
    "    total += i\n",
    "    i += 1\n",
    "print(total)"
   ]
  },
  {
   "cell_type": "code",
   "execution_count": null,
   "metadata": {},
   "outputs": [],
   "source": [
    "# 1^2 + 2^2 + 3^2 + ... + n^2\n",
    "n = 10\n",
    "total = 0\n",
    "i = 1\n",
    "while i <= n:\n",
    "    sum += i * i\n",
    "    i += 1\n",
    "print(sum)"
   ]
  },
  {
   "cell_type": "code",
   "execution_count": null,
   "metadata": {},
   "outputs": [],
   "source": [
    "# 1^1 + 2^2 + 3^3 + ... + n^n\n",
    "n = 10\n",
    "total = 0\n",
    "i = 1\n",
    "while i <= n:\n",
    "    total += i ** i\n",
    "    i += 1\n",
    "print(total)"
   ]
  },
  {
   "cell_type": "code",
   "execution_count": null,
   "metadata": {},
   "outputs": [],
   "source": [
    "# 1 + (2 + 3) + (4 + 5 + 6) + ... + n-th term\n",
    "n = 3\n",
    "total = 0\n",
    "i = 1\n",
    "j = 1\n",
    "while i <= n:\n",
    "    k = 1\n",
    "    while k <= i:\n",
    "        print(j)\n",
    "        total += j\n",
    "        j += 1\n",
    "        k += 1\n",
    "    i += 1\n",
    "print(total)"
   ]
  },
  {
   "cell_type": "code",
   "execution_count": null,
   "metadata": {},
   "outputs": [],
   "source": [
    "# 1 + (2 + 3*4) + (5 + 6*7 + 8*9*10) + ... + n-th term\n",
    "n = 4\n",
    "total = 0\n",
    "i = 1\n",
    "j = 1\n",
    "print('i', 'k', 'l', 'j')\n",
    "while i <= n:\n",
    "    k = 1\n",
    "    t1 = 0\n",
    "    while k <= i:\n",
    "        l = 1\n",
    "        t2 = 1\n",
    "        while l <= k:\n",
    "            print(i, k, l, j)\n",
    "            t2 *= j\n",
    "            l += 1\n",
    "            j += 1\n",
    "        t1 += t2\n",
    "        k += 1        \n",
    "    total += t1\n",
    "    i += 1\n",
    "    \n",
    "print(total)"
   ]
  },
  {
   "cell_type": "code",
   "execution_count": null,
   "metadata": {},
   "outputs": [],
   "source": [
    "n = 3\n",
    "i = 1\n",
    "total = 0\n",
    "while i <= n:\n",
    "    total += i * (n-i+1)\n",
    "    i += 1\n",
    "print(total)"
   ]
  },
  {
   "cell_type": "code",
   "execution_count": null,
   "metadata": {},
   "outputs": [],
   "source": [
    "n = 10\n",
    "i = 1\n",
    "j = n - i\n",
    "while i <= n:\n",
    "    k = 1\n",
    "    while k <= i:\n",
    "        print('*', end='')\n",
    "        k += 1\n",
    "    k = 1\n",
    "    while k <= j:\n",
    "        print('.', end='')\n",
    "        k += 1\n",
    "    i += 1\n",
    "    j = n - i\n",
    "    print('')"
   ]
  },
  {
   "cell_type": "code",
   "execution_count": null,
   "metadata": {},
   "outputs": [],
   "source": [
    "n = 3\n",
    "i = n\n",
    "j = n - i\n",
    "while i >= 1:\n",
    "    k = 1\n",
    "    while k <= j:\n",
    "        print('.', end='')\n",
    "        k += 1\n",
    "    k = 1\n",
    "    while k <= i:\n",
    "        print('*', end='')\n",
    "        k += 1\n",
    "    i -= 1\n",
    "    j = n - i\n",
    "    print('')"
   ]
  },
  {
   "cell_type": "code",
   "execution_count": null,
   "metadata": {},
   "outputs": [],
   "source": [
    "n = 3\n",
    "i = n\n",
    "while i >= 1:\n",
    "    no_dots = n - i\n",
    "    print('.' * no_dots, end='')\n",
    "    j = 1\n",
    "    while j < i:\n",
    "        print(j, end='')\n",
    "        j += 1\n",
    "    print(i, end='')\n",
    "    j = 1\n",
    "    while j < i:\n",
    "        print(j, end='')\n",
    "        j += 1\n",
    "    print('.' * no_dots, end='')\n",
    "    i -= 1\n",
    "    print('')\n",
    "    "
   ]
  },
  {
   "cell_type": "markdown",
   "metadata": {},
   "source": [
    "# 2.5 Array and String"
   ]
  },
  {
   "cell_type": "code",
   "execution_count": null,
   "metadata": {},
   "outputs": [],
   "source": [
    "def dec_to_bin(x):\n",
    "    b = []\n",
    "    if x == 0:\n",
    "        b.append(0)\n",
    "    while x != 0:\n",
    "        r = x % 2\n",
    "        b.append(r)\n",
    "        x = x // 2\n",
    "    b.reverse()\n",
    "    return b\n",
    "\n",
    "print(dec_to_bin(9)) "
   ]
  },
  {
   "cell_type": "code",
   "execution_count": null,
   "metadata": {},
   "outputs": [],
   "source": [
    "def bin_to_dec(b):\n",
    "    '''b is a list of 0's and ones '''\n",
    "    t = 0\n",
    "    for i in b:\n",
    "        t = t * 2 + i\n",
    "    return t"
   ]
  },
  {
   "cell_type": "code",
   "execution_count": null,
   "metadata": {},
   "outputs": [],
   "source": [
    "print(bin_to_dec(dec_to_bin(11)))"
   ]
  },
  {
   "cell_type": "code",
   "execution_count": null,
   "metadata": {},
   "outputs": [],
   "source": [
    "import random\n",
    "n = 10\n",
    "a = [random.randint(1, 1001) for i in range(n)]\n",
    "print(a)\n",
    "\n",
    "for i in range(n):\n",
    "    min = a[i]\n",
    "    p = i\n",
    "    for j in range(i, n):\n",
    "        if min > a[j]:\n",
    "            min = a[j]\n",
    "            p = j\n",
    "    \n",
    "    t = a[p]\n",
    "    a[p] = a[i]\n",
    "    a[i] = t\n",
    "    \n",
    "print(a)"
   ]
  },
  {
   "cell_type": "code",
   "execution_count": null,
   "metadata": {},
   "outputs": [],
   "source": [
    "import random\n",
    "n = 20\n",
    "a = [random.randint(0,1) for i in range(n)]\n",
    "print(a)\n",
    "\n",
    "t = 0\n",
    "tmax = 0\n",
    "for i in range(n):\n",
    "    if a[i] == 1:\n",
    "        t += 1\n",
    "    else:\n",
    "        if t > tmax:\n",
    "            tmax = t\n",
    "        t = 0\n",
    "    \n",
    "if t > tmax:\n",
    "    tmax = t\n",
    "    \n",
    "print(tmax)"
   ]
  },
  {
   "cell_type": "code",
   "execution_count": null,
   "metadata": {},
   "outputs": [],
   "source": [
    "import random\n",
    "n = 20\n",
    "a = [random.randint(1, 20) for i in range(n)]\n",
    "b = a[:]\n",
    "\n",
    "for i in range(1, n):\n",
    "    b[i] += b[i-1]\n",
    "    \n",
    "print(a)\n",
    "print(b)\n",
    "\n",
    "def find_sum1(numbers, i, j):\n",
    "    return (sum(numbers[i:j+1]))\n",
    "    \n",
    "def find_sum2(numbers, i, j):\n",
    "    if i == 0:\n",
    "        return numbers[j]\n",
    "    elif i > 0:\n",
    "        return numbers[j] - numbers[i-1]\n",
    "    \n",
    "print(find_sum1(a, 0, 1))\n",
    "print(find_sum2(b, 0, 1))"
   ]
  },
  {
   "cell_type": "code",
   "execution_count": null,
   "metadata": {},
   "outputs": [],
   "source": [
    "def find_count_of_small_and_cap_letters(s):\n",
    "    small_letter_count = 0\n",
    "    cap_letter_count = 0\n",
    "    \n",
    "    for c in s:\n",
    "        if c >= 'a' and c <= 'z':\n",
    "            small_letter_count += 1\n",
    "        elif c >= 'A' and c <= 'Z':\n",
    "            cap_letter_count += 1\n",
    "    return (small_letter_count, cap_letter_count)\n",
    "\n",
    "print(find_count_of_small_and_cap_letters('Test'))\n",
    "print('Small Letter count: {} and capital letter count: {}'.format(*(find_count_of_small_and_cap_letters('Test'))))"
   ]
  },
  {
   "cell_type": "code",
   "execution_count": 10,
   "metadata": {},
   "outputs": [
    {
     "name": "stdout",
     "output_type": "stream",
     "text": [
      "1\n",
      "3\n"
     ]
    }
   ],
   "source": [
    "def find_substr_count(sa, sb):\n",
    "    count = 0\n",
    "    while True: \n",
    "        pos = sa.find(sb)\n",
    "        if pos >= 0:\n",
    "            count += 1\n",
    "            sa = sa[pos + 1:]\n",
    "        else:\n",
    "            break\n",
    "    return count\n",
    "\n",
    "print(find_substr_count('Bangladesh', 'desh'))\n",
    "\n",
    "print(find_substr_count('aabaaa', 'aa'))"
   ]
  },
  {
   "cell_type": "code",
   "execution_count": 14,
   "metadata": {},
   "outputs": [
    {
     "name": "stdout",
     "output_type": "stream",
     "text": [
      "(21, 9, 2013)\n"
     ]
    }
   ],
   "source": [
    "def split_date(s, sep):\n",
    "    day, sep, rest = s.partition(sep)\n",
    "    month, sep, year = rest.partition(sep)\n",
    "    return (int(day), int(month), int(year))\n",
    "\n",
    "print(split_date('21/9/2013', '/'))"
   ]
  },
  {
   "cell_type": "code",
   "execution_count": 18,
   "metadata": {},
   "outputs": [
    {
     "name": "stdout",
     "output_type": "stream",
     "text": [
      "True\n"
     ]
    }
   ],
   "source": [
    "def is_b_subsequence_of_a(a, b):\n",
    "    i = 0\n",
    "    j = 0\n",
    "    while i < len(b):\n",
    "        found = False\n",
    "        while j < len(a):\n",
    "            if b[i] == a[j]:\n",
    "                found = True\n",
    "                break\n",
    "            j += 1\n",
    "        if found == True:\n",
    "            i += 1\n",
    "            j += 1\n",
    "        else:\n",
    "            break\n",
    "    return found\n",
    "\n",
    "print(is_b_subsequence_of_a('dbangladesh', 'dash'))"
   ]
  },
  {
   "cell_type": "code",
   "execution_count": null,
   "metadata": {},
   "outputs": [],
   "source": []
  }
 ],
 "metadata": {
  "kernelspec": {
   "display_name": "Python 3",
   "language": "python",
   "name": "python3"
  },
  "language_info": {
   "codemirror_mode": {
    "name": "ipython",
    "version": 3
   },
   "file_extension": ".py",
   "mimetype": "text/x-python",
   "name": "python",
   "nbconvert_exporter": "python",
   "pygments_lexer": "ipython3",
   "version": "3.6.6"
  }
 },
 "nbformat": 4,
 "nbformat_minor": 2
}
